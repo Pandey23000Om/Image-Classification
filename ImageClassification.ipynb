{
  "nbformat": 4,
  "nbformat_minor": 0,
  "metadata": {
    "colab": {
      "name": "ImageClassification.ipynb",
      "provenance": [],
      "authorship_tag": "ABX9TyO9HMuFZKJIJf4ZO7tE/6Lt",
      "include_colab_link": true
    },
    "kernelspec": {
      "name": "python3",
      "display_name": "Python 3"
    }
  },
  "cells": [
    {
      "cell_type": "markdown",
      "metadata": {
        "id": "view-in-github",
        "colab_type": "text"
      },
      "source": [
        "<a href=\"https://colab.research.google.com/github/Pandey23000Om/Image-Classification/blob/main/ImageClassification.ipynb\" target=\"_parent\"><img src=\"https://colab.research.google.com/assets/colab-badge.svg\" alt=\"Open In Colab\"/></a>"
      ]
    },
    {
      "cell_type": "code",
      "metadata": {
        "id": "z4pciOjr58-t"
      },
      "source": [
        "from sklearn import datasets\n",
        "\n",
        "mnist = datasets.fetch_openml('mnist_784')"
      ],
      "execution_count": 2,
      "outputs": []
    },
    {
      "cell_type": "code",
      "metadata": {
        "id": "SBiZJM8XIOQe"
      },
      "source": [
        "x, y = mnist['data'], mnist['target']"
      ],
      "execution_count": 3,
      "outputs": []
    },
    {
      "cell_type": "code",
      "metadata": {
        "id": "UEpd8zuXIcCp",
        "colab": {
          "base_uri": "https://localhost:8080/"
        },
        "outputId": "34e1de7f-ed15-4f72-c94d-a850f0d94f6e"
      },
      "source": [
        "x.shape"
      ],
      "execution_count": 4,
      "outputs": [
        {
          "output_type": "execute_result",
          "data": {
            "text/plain": [
              "(70000, 784)"
            ]
          },
          "metadata": {
            "tags": []
          },
          "execution_count": 4
        }
      ]
    },
    {
      "cell_type": "code",
      "metadata": {
        "id": "gEu1JiJIJ25J"
      },
      "source": [
        "%matplotlib inline"
      ],
      "execution_count": 5,
      "outputs": []
    },
    {
      "cell_type": "code",
      "metadata": {
        "id": "wc0-DHBAKBRm"
      },
      "source": [
        "import matplotlib.pyplot as plt"
      ],
      "execution_count": 6,
      "outputs": []
    },
    {
      "cell_type": "code",
      "metadata": {
        "id": "C57OPKBXKFlV"
      },
      "source": [
        "some_digit = x[36000]\n",
        "some_digit_image = some_digit.reshape(28,28)"
      ],
      "execution_count": 7,
      "outputs": []
    },
    {
      "cell_type": "code",
      "metadata": {
        "id": "aKR7MTVgKJKt",
        "colab": {
          "base_uri": "https://localhost:8080/",
          "height": 265
        },
        "outputId": "82cc31df-1ef8-430d-c576-5ccfd138bbcb"
      },
      "source": [
        "plt.imshow(some_digit_image, interpolation='nearest')\n",
        "plt.axis(\"off\")"
      ],
      "execution_count": 8,
      "outputs": [
        {
          "output_type": "execute_result",
          "data": {
            "text/plain": [
              "(-0.5, 27.5, 27.5, -0.5)"
            ]
          },
          "metadata": {
            "tags": []
          },
          "execution_count": 8
        },
        {
          "output_type": "display_data",
          "data": {
            "image/png": "[encoded data removed]",
            "text/plain": [
              "<Figure size 432x288 with 1 Axes>"
            ]
          },
          "metadata": {
            "tags": [],
            "needs_background": "light"
          }
        }
      ]
    },
    {
      "cell_type": "code",
      "metadata": {
        "id": "TYa08PvSK4Nl",
        "colab": {
          "base_uri": "https://localhost:8080/",
          "height": 35
        },
        "outputId": "15238658-4251-4d5f-93a6-8f5065e5a20f"
      },
      "source": [
        "y[36000]"
      ],
      "execution_count": 9,
      "outputs": [
        {
          "output_type": "execute_result",
          "data": {
            "application/vnd.google.colaboratory.intrinsic+json": {
              "type": "string"
            },
            "text/plain": [
              "'9'"
            ]
          },
          "metadata": {
            "tags": []
          },
          "execution_count": 9
        }
      ]
    },
    {
      "cell_type": "code",
      "metadata": {
        "id": "eSDwJrmzLN93"
      },
      "source": [
        "x_train,x_test = x[:60000],x[60000:]\n",
        "y_train,y_test = y[:60000],y[60000:]"
      ],
      "execution_count": 10,
      "outputs": []
    },
    {
      "cell_type": "code",
      "metadata": {
        "id": "f0TaI5K_Lxde"
      },
      "source": [
        "import numpy as np\n",
        "shuffle_index = np.random.permutation(60000)\n",
        "x_train,y_train = x_train[shuffle_index], y_train[shuffle_index]"
      ],
      "execution_count": 11,
      "outputs": []
    },
    {
      "cell_type": "code",
      "metadata": {
        "id": "nE1rwWq2Lz2d",
        "colab": {
          "base_uri": "https://localhost:8080/",
          "height": 35
        },
        "outputId": "7642e0de-fe61-44a9-a667-1dca93da3fc8"
      },
      "source": [
        "y_train[36000]"
      ],
      "execution_count": 12,
      "outputs": [
        {
          "output_type": "execute_result",
          "data": {
            "application/vnd.google.colaboratory.intrinsic+json": {
              "type": "string"
            },
            "text/plain": [
              "'5'"
            ]
          },
          "metadata": {
            "tags": []
          },
          "execution_count": 12
        }
      ]
    },
    {
      "cell_type": "code",
      "metadata": {
        "id": "w8wwgTU2M_sX"
      },
      "source": [
        "import xgboost as xgb\n",
        "clf = xgb.XGBClassifier(tol = 0.1)"
      ],
      "execution_count": 13,
      "outputs": []
    },
    {
      "cell_type": "code",
      "metadata": {
        "id": "x5YEB4E5PH9Y",
        "colab": {
          "base_uri": "https://localhost:8080/"
        },
        "outputId": "1a8d990a-3728-4aaa-f0ae-d813fcf45884"
      },
      "source": [
        "clf.fit(x_train,y_train)"
      ],
      "execution_count": 14,
      "outputs": [
        {
          "output_type": "execute_result",
          "data": {
            "text/plain": [
              "XGBClassifier(base_score=0.5, booster='gbtree', colsample_bylevel=1,\n",
              "              colsample_bynode=1, colsample_bytree=1, gamma=0,\n",
              "              learning_rate=0.1, max_delta_step=0, max_depth=3,\n",
              "              min_child_weight=1, missing=None, n_estimators=100, n_jobs=1,\n",
              "              nthread=None, objective='multi:softprob', random_state=0,\n",
              "              reg_alpha=0, reg_lambda=1, scale_pos_weight=1, seed=None,\n",
              "              silent=None, subsample=1, tol=0.1, verbosity=1)"
            ]
          },
          "metadata": {
            "tags": []
          },
          "execution_count": 14
        }
      ]
    },
    {
      "cell_type": "code",
      "metadata": {
        "id": "008CUVdnPno0",
        "colab": {
          "base_uri": "https://localhost:8080/"
        },
        "outputId": "52ff9827-90d1-42d2-f448-567c3c859251"
      },
      "source": [
        "clf.predict(x_train)"
      ],
      "execution_count": 15,
      "outputs": [
        {
          "output_type": "execute_result",
          "data": {
            "text/plain": [
              "array(['8', '3', '1', ..., '4', '7', '5'], dtype=object)"
            ]
          },
          "metadata": {
            "tags": []
          },
          "execution_count": 15
        }
      ]
    },
    {
      "cell_type": "code",
      "metadata": {
        "id": "DGhkL9F5Sh-Z"
      },
      "source": [
        "from sklearn.model_selection import cross_val_score as cvs"
      ],
      "execution_count": 16,
      "outputs": []
    },
    {
      "cell_type": "code",
      "metadata": {
        "id": "NikWivpSSp9z",
        "colab": {
          "base_uri": "https://localhost:8080/"
        },
        "outputId": "44610f4e-5474-488f-e23a-d09719d5b4c8"
      },
      "source": [
        "cvs(clf, x_train, y_train, cv=3, scoring='accuracy')"
      ],
      "execution_count": 17,
      "outputs": [
        {
          "output_type": "execute_result",
          "data": {
            "text/plain": [
              "array([0.93275, 0.932  , 0.93205])"
            ]
          },
          "metadata": {
            "tags": []
          },
          "execution_count": 17
        }
      ]
    },
    {
      "cell_type": "code",
      "metadata": {
        "id": "OS3BVGbSgSn9",
        "colab": {
          "base_uri": "https://localhost:8080/"
        },
        "outputId": "d6844d70-4593-4201-b148-e602a0256d70"
      },
      "source": [
        "cvs(clf, x_test, y_test, cv=3, scoring='accuracy')"
      ],
      "execution_count": 18,
      "outputs": [
        {
          "output_type": "execute_result",
          "data": {
            "text/plain": [
              "array([0.89622076, 0.91329133, 0.93189319])"
            ]
          },
          "metadata": {
            "tags": []
          },
          "execution_count": 18
        }
      ]
    },
    {
      "cell_type": "code",
      "metadata": {
        "id": "Y4eRrgEshzw7",
        "colab": {
          "base_uri": "https://localhost:8080/"
        },
        "outputId": "1fbd02dc-eecf-4719-b1dd-b41567eef880"
      },
      "source": [
        "y_pred = clf.predict(x_test)\n",
        "\n",
        "\n",
        "\n",
        "from math import sqrt\n",
        "from sklearn.metrics import r2_score, mean_squared_error\n",
        "\n",
        "print(\"RMSE: \", sqrt(mean_squared_error(y_test, y_pred)))\n",
        "print(\"R2_Score for test: \", r2_score(y_test, y_pred))"
      ],
      "execution_count": 19,
      "outputs": [
        {
          "output_type": "stream",
          "text": [
            "RMSE:  1.054229576515476\n",
            "R2_Score for test:  0.8674568916837445\n"
          ],
          "name": "stdout"
        }
      ]
    },
    {
      "cell_type": "code",
      "metadata": {
        "id": "xGZngt78pqEE",
        "colab": {
          "base_uri": "https://localhost:8080/"
        },
        "outputId": "3a6c19be-77ae-42e6-8204-6b4f7fb6ef63"
      },
      "source": [
        "clf.predict(x_test[9999:])"
      ],
      "execution_count": 20,
      "outputs": [
        {
          "output_type": "execute_result",
          "data": {
            "text/plain": [
              "array(['6'], dtype=object)"
            ]
          },
          "metadata": {
            "tags": []
          },
          "execution_count": 20
        }
      ]
    },
    {
      "cell_type": "code",
      "metadata": {
        "id": "Wq9Z6vUPpuYJ",
        "colab": {
          "base_uri": "https://localhost:8080/",
          "height": 35
        },
        "outputId": "f0c01610-dc0b-409d-96b9-77ef28cea156"
      },
      "source": [
        "y_test[-1]"
      ],
      "execution_count": 21,
      "outputs": [
        {
          "output_type": "execute_result",
          "data": {
            "application/vnd.google.colaboratory.intrinsic+json": {
              "type": "string"
            },
            "text/plain": [
              "'6'"
            ]
          },
          "metadata": {
            "tags": []
          },
          "execution_count": 21
        }
      ]
    },
    {
      "cell_type": "code",
      "metadata": {
        "id": "oM93ebG4p3zH"
      },
      "source": [
        ""
      ],
      "execution_count": 21,
      "outputs": []
    }
  ]
}